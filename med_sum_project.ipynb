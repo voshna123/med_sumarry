{
  "nbformat": 4,
  "nbformat_minor": 0,
  "metadata": {
    "colab": {
      "provenance": [],
      "gpuType": "T4",
      "authorship_tag": "ABX9TyMyxPo9cZv6PR+V07Uo/f6s",
      "include_colab_link": true
    },
    "kernelspec": {
      "name": "python3",
      "display_name": "Python 3"
    },
    "language_info": {
      "name": "python"
    },
    "accelerator": "GPU"
  },
  "cells": [
    {
      "cell_type": "markdown",
      "metadata": {
        "id": "view-in-github",
        "colab_type": "text"
      },
      "source": [
        "<a href=\"https://colab.research.google.com/github/voshna123/med_sumarry/blob/main/med_sum_project.ipynb\" target=\"_parent\"><img src=\"https://colab.research.google.com/assets/colab-badge.svg\" alt=\"Open In Colab\"/></a>"
      ]
    },
    {
      "cell_type": "markdown",
      "source": [
        "# imports"
      ],
      "metadata": {
        "id": "Hg-TVKZStlhP"
      }
    },
    {
      "cell_type": "code",
      "source": [
        "import tensorflow as tf\n",
        "import pandas as pd"
      ],
      "metadata": {
        "id": "tDUfkT0DqcYj"
      },
      "execution_count": 1,
      "outputs": []
    },
    {
      "cell_type": "code",
      "execution_count": 2,
      "metadata": {
        "colab": {
          "base_uri": "https://localhost:8080/"
        },
        "id": "zSmBtJkpws5v",
        "outputId": "4ade9b59-e5ef-423d-b884-356ee6aa2073"
      },
      "outputs": [
        {
          "output_type": "stream",
          "name": "stdout",
          "text": [
            "Cloning into 'pubmed-rct'...\n",
            "remote: Enumerating objects: 39, done.\u001b[K\n",
            "remote: Counting objects: 100% (14/14), done.\u001b[K\n",
            "remote: Compressing objects: 100% (9/9), done.\u001b[K\n",
            "remote: Total 39 (delta 8), reused 5 (delta 5), pack-reused 25 (from 1)\u001b[K\n",
            "Receiving objects: 100% (39/39), 177.08 MiB | 24.76 MiB/s, done.\n",
            "Resolving deltas: 100% (15/15), done.\n"
          ]
        }
      ],
      "source": [
        "!git clone https://github.com/Franck-Dernoncourt/pubmed-rct"
      ]
    },
    {
      "cell_type": "code",
      "execution_count": 3,
      "metadata": {
        "colab": {
          "base_uri": "https://localhost:8080/"
        },
        "id": "e5hzLLJ0z6Gb",
        "outputId": "22c926ad-08c0-4787-9ad7-9bd640b6a650"
      },
      "outputs": [
        {
          "output_type": "stream",
          "name": "stdout",
          "text": [
            "--2025-01-17 05:37:31--  https://raw.githubusercontent.com/mrdbourke/tensorflow-deep-learning/refs/heads/main/extras/helper_functions.py\n",
            "Resolving raw.githubusercontent.com (raw.githubusercontent.com)... 185.199.111.133, 185.199.108.133, 185.199.109.133, ...\n",
            "Connecting to raw.githubusercontent.com (raw.githubusercontent.com)|185.199.111.133|:443... connected.\n",
            "HTTP request sent, awaiting response... 200 OK\n",
            "Length: 10246 (10K) [text/plain]\n",
            "Saving to: ‘helper_functions.py’\n",
            "\n",
            "\rhelper_functions.py   0%[                    ]       0  --.-KB/s               \rhelper_functions.py 100%[===================>]  10.01K  --.-KB/s    in 0s      \n",
            "\n",
            "2025-01-17 05:37:31 (100 MB/s) - ‘helper_functions.py’ saved [10246/10246]\n",
            "\n"
          ]
        }
      ],
      "source": [
        "!wget https://raw.githubusercontent.com/mrdbourke/tensorflow-deep-learning/refs/heads/main/extras/helper_functions.py"
      ]
    },
    {
      "cell_type": "code",
      "source": [
        "from helper_functions import calculate_results,create_tensorboard_callback"
      ],
      "metadata": {
        "id": "vQTbQs5BqsRq"
      },
      "execution_count": 4,
      "outputs": []
    },
    {
      "cell_type": "code",
      "execution_count": 5,
      "metadata": {
        "id": "nVDllHnU1YuE"
      },
      "outputs": [],
      "source": [
        "data_dir = \"/content/pubmed-rct/PubMed_20k_RCT_numbers_replaced_with_at_sign\""
      ]
    },
    {
      "cell_type": "code",
      "execution_count": 6,
      "metadata": {
        "colab": {
          "base_uri": "https://localhost:8080/"
        },
        "id": "E6Sf1bOg1Jpd",
        "outputId": "f1cdd4a3-6a94-45ed-de99-67a7ccd08a58"
      },
      "outputs": [
        {
          "output_type": "execute_result",
          "data": {
            "text/plain": [
              "['/content/pubmed-rct/PubMed_20k_RCT_numbers_replaced_with_at_sign/dev.txt',\n",
              " '/content/pubmed-rct/PubMed_20k_RCT_numbers_replaced_with_at_sign/train.txt',\n",
              " '/content/pubmed-rct/PubMed_20k_RCT_numbers_replaced_with_at_sign/test.txt']"
            ]
          },
          "metadata": {},
          "execution_count": 6
        }
      ],
      "source": [
        "import os\n",
        "\n",
        "filenames = [data_dir + \"/\"+filename for filename in os.listdir(data_dir)]\n",
        "filenames"
      ]
    },
    {
      "cell_type": "markdown",
      "source": [
        "#Preprocess Data"
      ],
      "metadata": {
        "id": "Gr8gP6WQt0fL"
      }
    },
    {
      "cell_type": "code",
      "execution_count": 7,
      "metadata": {
        "id": "UcwGQJzu1fQE"
      },
      "outputs": [],
      "source": [
        "def get_lines(filename):\n",
        "  \"\"\"\n",
        "  Reads filename and return the lines of text as a list\n",
        "\n",
        "  Args:\n",
        "  filename\n",
        "\n",
        "  Returns:\n",
        "  List of lines\n",
        "  \"\"\"\n",
        "\n",
        "  with open(filename, \"r\") as f:\n",
        "    return f.read().splitlines()"
      ]
    },
    {
      "cell_type": "code",
      "execution_count": 8,
      "metadata": {
        "colab": {
          "base_uri": "https://localhost:8080/"
        },
        "id": "WhLm-s5A139Y",
        "outputId": "61bdd4df-c4e7-4ddf-f517-0a61e845cb54"
      },
      "outputs": [
        {
          "output_type": "execute_result",
          "data": {
            "text/plain": [
              "['###24293578',\n",
              " 'OBJECTIVE\\tTo investigate the efficacy of @ weeks of daily low-dose oral prednisolone in improving pain , mobility , and systemic low-grade inflammation in the short term and whether the effect would be sustained at @ weeks in older adults with moderate to severe knee osteoarthritis ( OA ) .',\n",
              " 'METHODS\\tA total of @ patients with primary knee OA were randomized @:@ ; @ received @ mg/day of prednisolone and @ received placebo for @ weeks .',\n",
              " 'METHODS\\tOutcome measures included pain reduction and improvement in function scores and systemic inflammation markers .',\n",
              " 'METHODS\\tPain was assessed using the visual analog pain scale ( @-@ mm ) .',\n",
              " 'METHODS\\tSecondary outcome measures included the Western Ontario and McMaster Universities Osteoarthritis Index scores , patient global assessment ( PGA ) of the severity of knee OA , and @-min walk distance ( @MWD ) .',\n",
              " 'METHODS\\tSerum levels of interleukin @ ( IL-@ ) , IL-@ , tumor necrosis factor ( TNF ) - , and high-sensitivity C-reactive protein ( hsCRP ) were measured .',\n",
              " 'RESULTS\\tThere was a clinically relevant reduction in the intervention group compared to the placebo group for knee pain , physical function , PGA , and @MWD at @ weeks .',\n",
              " 'RESULTS\\tThe mean difference between treatment arms ( @ % CI ) was @ ( @-@ @ ) , p < @ ; @ ( @-@ @ ) , p < @ ; @ ( @-@ @ ) , p < @ ; and @ ( @-@ @ ) , p < @ , respectively .',\n",
              " 'RESULTS\\tFurther , there was a clinically relevant reduction in the serum levels of IL-@ , IL-@ , TNF - , and hsCRP at @ weeks in the intervention group when compared to the placebo group .']"
            ]
          },
          "metadata": {},
          "execution_count": 8
        }
      ],
      "source": [
        "train_lines = get_lines(filenames[1])\n",
        "train_lines[0:10]"
      ]
    },
    {
      "cell_type": "code",
      "execution_count": 9,
      "metadata": {
        "id": "0PHTEFHp2mKh"
      },
      "outputs": [],
      "source": [
        "from inspect import currentframe\n",
        "def preprocesses_line(filename):\n",
        "  \"\"\"\n",
        "  Returns list of dictionaries\n",
        "  \"\"\"\n",
        "\n",
        "  input_line = get_lines(filename)\n",
        "  text = []\n",
        "  category =[]\n",
        "  line_nums = []\n",
        "  max_lines =[]\n",
        "\n",
        "\n",
        "  curr_max= 0\n",
        "\n",
        "  for line in input_line:\n",
        "    if not '###' in line:\n",
        "      if line == \"\":\n",
        "        for x in range(curr_max):\n",
        "          max_lines.append(curr_max)\n",
        "        continue\n",
        "      else:\n",
        "        curr_max += 1\n",
        "        line_nums.append(line_number)\n",
        "        line_number += 1\n",
        "        split = line.split(\"\\t\")\n",
        "        category.append(split[0])\n",
        "        text.append(split[1])\n",
        "\n",
        "    else:\n",
        "\n",
        "      line_number =0\n",
        "      curr_max = 0\n",
        "\n",
        "\n",
        "  return {\"line_number\": line_nums, \"text\": text, \"category\": category, \"max\" :max_lines}"
      ]
    },
    {
      "cell_type": "code",
      "execution_count": 10,
      "metadata": {
        "id": "P_s_IAnd3efF"
      },
      "outputs": [],
      "source": [
        "import pandas as pd\n",
        "test_df = pd.DataFrame(preprocesses_line(filenames[0]))\n",
        "txt_dict_train = preprocesses_line(filenames[1])\n",
        "val_df = pd.DataFrame(preprocesses_line(filenames[2]))\n",
        "train_df = pd.DataFrame(txt_dict_train)"
      ]
    },
    {
      "cell_type": "code",
      "execution_count": 11,
      "metadata": {
        "colab": {
          "base_uri": "https://localhost:8080/",
          "height": 448
        },
        "id": "U2uRRzXO_3m9",
        "outputId": "df6c74c4-d651-4f81-c2ed-f0dcc78ccb30"
      },
      "outputs": [
        {
          "output_type": "execute_result",
          "data": {
            "text/plain": [
              "<Axes: ylabel='Frequency'>"
            ]
          },
          "metadata": {},
          "execution_count": 11
        },
        {
          "output_type": "display_data",
          "data": {
            "text/plain": [
              "<Figure size 640x480 with 1 Axes>"
            ],
            "image/png": "[encoded data removed]"
          },
          "metadata": {}
        }
      ],
      "source": [
        "train_df['max'].plot.hist()"
      ]
    },
    {
      "cell_type": "markdown",
      "source": [
        "## Getting list of sentences"
      ],
      "metadata": {
        "id": "XB3M5buWuDxo"
      }
    },
    {
      "cell_type": "code",
      "execution_count": 12,
      "metadata": {
        "id": "YP43wEbYAoRc"
      },
      "outputs": [],
      "source": [
        "train_sentences = train_df['text'].to_list()\n",
        "val_sentences = val_df['text'].to_list()\n",
        "test_sentences = test_df['text'].to_list()"
      ]
    },
    {
      "cell_type": "markdown",
      "source": [
        "## Encode Labels"
      ],
      "metadata": {
        "id": "5R81HqTouO1w"
      }
    },
    {
      "cell_type": "code",
      "execution_count": 13,
      "metadata": {
        "id": "Me4oFz4dBkSK"
      },
      "outputs": [],
      "source": [
        "import sklearn\n",
        "\n",
        "encoder = sklearn.preprocessing.OneHotEncoder()\n",
        "\n",
        "train_onelabels = encoder.fit_transform(train_df['category'].to_numpy().reshape(-1,1))\n",
        "train_onelabels = train_onelabels.toarray()\n",
        "test_onelabels = encoder.fit_transform(test_df['category'].to_numpy().reshape(-1,1))\n",
        "test_onelabels = test_onelabels.toarray()\n",
        "val_onelabels = encoder.fit_transform(val_df['category'].to_numpy().reshape(-1,1))\n",
        "val_onelabels = val_onelabels.toarray()"
      ]
    },
    {
      "cell_type": "code",
      "execution_count": 14,
      "metadata": {
        "colab": {
          "base_uri": "https://localhost:8080/"
        },
        "id": "5BXkNU5cBygo",
        "outputId": "f446a81e-9888-4da7-af38-89b1f2404c97"
      },
      "outputs": [
        {
          "output_type": "execute_result",
          "data": {
            "text/plain": [
              "(array([3, 2, 2, ..., 4, 1, 1]), 180040)"
            ]
          },
          "metadata": {},
          "execution_count": 14
        }
      ],
      "source": [
        "label_encoder = sklearn.preprocessing.LabelEncoder()\n",
        "train_labels = label_encoder.fit_transform(train_df['category'])\n",
        "test_labels = label_encoder.fit_transform(test_df['category'])\n",
        "val_labels = label_encoder.fit_transform(val_df['category'])\n",
        "train_labels, len(train_labels)\n"
      ]
    },
    {
      "cell_type": "code",
      "execution_count": 15,
      "metadata": {
        "colab": {
          "base_uri": "https://localhost:8080/"
        },
        "id": "cn4gLI57DCtm",
        "outputId": "726f47ed-c416-418b-9b49-158921f2e038"
      },
      "outputs": [
        {
          "output_type": "execute_result",
          "data": {
            "text/plain": [
              "array(['BACKGROUND', 'CONCLUSIONS', 'METHODS', 'OBJECTIVE', 'RESULTS'],\n",
              "      dtype=object)"
            ]
          },
          "metadata": {},
          "execution_count": 15
        }
      ],
      "source": [
        "class_names = label_encoder.classes_\n",
        "class_names"
      ]
    },
    {
      "cell_type": "markdown",
      "source": [
        "## Getting character level tokens"
      ],
      "metadata": {
        "id": "bid7W5YsvFx-"
      }
    },
    {
      "cell_type": "code",
      "execution_count": 16,
      "metadata": {
        "id": "ccAkgUf-NVEo"
      },
      "outputs": [],
      "source": [
        "def split_chars(text):\n",
        "  return \" \".join(list(text))"
      ]
    },
    {
      "cell_type": "code",
      "execution_count": 17,
      "metadata": {
        "colab": {
          "base_uri": "https://localhost:8080/"
        },
        "id": "lrEOPnpDN9Cu",
        "outputId": "1030e248-fa6b-4327-d38c-310264f921c0"
      },
      "outputs": [
        {
          "output_type": "execute_result",
          "data": {
            "text/plain": [
              "['T o   i n v e s t i g a t e   t h e   e f f i c a c y   o f   @   w e e k s   o f   d a i l y   l o w - d o s e   o r a l   p r e d n i s o l o n e   i n   i m p r o v i n g   p a i n   ,   m o b i l i t y   ,   a n d   s y s t e m i c   l o w - g r a d e   i n f l a m m a t i o n   i n   t h e   s h o r t   t e r m   a n d   w h e t h e r   t h e   e f f e c t   w o u l d   b e   s u s t a i n e d   a t   @   w e e k s   i n   o l d e r   a d u l t s   w i t h   m o d e r a t e   t o   s e v e r e   k n e e   o s t e o a r t h r i t i s   (   O A   )   .',\n",
              " 'A   t o t a l   o f   @   p a t i e n t s   w i t h   p r i m a r y   k n e e   O A   w e r e   r a n d o m i z e d   @ : @   ;   @   r e c e i v e d   @   m g / d a y   o f   p r e d n i s o l o n e   a n d   @   r e c e i v e d   p l a c e b o   f o r   @   w e e k s   .',\n",
              " 'O u t c o m e   m e a s u r e s   i n c l u d e d   p a i n   r e d u c t i o n   a n d   i m p r o v e m e n t   i n   f u n c t i o n   s c o r e s   a n d   s y s t e m i c   i n f l a m m a t i o n   m a r k e r s   .',\n",
              " 'P a i n   w a s   a s s e s s e d   u s i n g   t h e   v i s u a l   a n a l o g   p a i n   s c a l e   (   @ - @   m m   )   .',\n",
              " 'S e c o n d a r y   o u t c o m e   m e a s u r e s   i n c l u d e d   t h e   W e s t e r n   O n t a r i o   a n d   M c M a s t e r   U n i v e r s i t i e s   O s t e o a r t h r i t i s   I n d e x   s c o r e s   ,   p a t i e n t   g l o b a l   a s s e s s m e n t   (   P G A   )   o f   t h e   s e v e r i t y   o f   k n e e   O A   ,   a n d   @ - m i n   w a l k   d i s t a n c e   (   @ M W D   )   .']"
            ]
          },
          "metadata": {},
          "execution_count": 17
        }
      ],
      "source": [
        "train_chars = [split_chars(text) for text in train_sentences]\n",
        "test_chars = [split_chars(text) for text in test_sentences]\n",
        "val_chars = [split_chars(text) for text in val_sentences]\n",
        "train_chars[:5]"
      ]
    },
    {
      "cell_type": "markdown",
      "source": [
        "## create positional embeddings"
      ],
      "metadata": {
        "id": "pBBc4BXevfzX"
      }
    },
    {
      "cell_type": "code",
      "source": [
        "train_line_numbers_one_hot = tf.one_hot(train_df['line_number'].to_numpy(), depth = 15)\n",
        "val_line_numbers_one_hot = tf.one_hot(val_df['line_number'].to_numpy(), depth = 15)\n",
        "test_line_numbers_one_hot = tf.one_hot(test_df['line_number'].to_numpy(), depth = 15)\n",
        "train_line_numbers_one_hot.shape, train_line_numbers_one_hot[:10]"
      ],
      "metadata": {
        "colab": {
          "base_uri": "https://localhost:8080/"
        },
        "id": "sKZAulKL4OQZ",
        "outputId": "e6b06a0f-9352-438a-93e9-b1a6bde93148"
      },
      "execution_count": 18,
      "outputs": [
        {
          "output_type": "execute_result",
          "data": {
            "text/plain": [
              "(TensorShape([180040, 15]),\n",
              " <tf.Tensor: shape=(10, 15), dtype=float32, numpy=\n",
              " array([[1., 0., 0., 0., 0., 0., 0., 0., 0., 0., 0., 0., 0., 0., 0.],\n",
              "        [0., 1., 0., 0., 0., 0., 0., 0., 0., 0., 0., 0., 0., 0., 0.],\n",
              "        [0., 0., 1., 0., 0., 0., 0., 0., 0., 0., 0., 0., 0., 0., 0.],\n",
              "        [0., 0., 0., 1., 0., 0., 0., 0., 0., 0., 0., 0., 0., 0., 0.],\n",
              "        [0., 0., 0., 0., 1., 0., 0., 0., 0., 0., 0., 0., 0., 0., 0.],\n",
              "        [0., 0., 0., 0., 0., 1., 0., 0., 0., 0., 0., 0., 0., 0., 0.],\n",
              "        [0., 0., 0., 0., 0., 0., 1., 0., 0., 0., 0., 0., 0., 0., 0.],\n",
              "        [0., 0., 0., 0., 0., 0., 0., 1., 0., 0., 0., 0., 0., 0., 0.],\n",
              "        [0., 0., 0., 0., 0., 0., 0., 0., 1., 0., 0., 0., 0., 0., 0.],\n",
              "        [0., 0., 0., 0., 0., 0., 0., 0., 0., 1., 0., 0., 0., 0., 0.]],\n",
              "       dtype=float32)>)"
            ]
          },
          "metadata": {},
          "execution_count": 18
        }
      ]
    },
    {
      "cell_type": "code",
      "source": [
        "import numpy as np\n",
        "\n",
        "np.percentile(train_df['max'], 98)"
      ],
      "metadata": {
        "colab": {
          "base_uri": "https://localhost:8080/"
        },
        "id": "Ei0VubVI7jle",
        "outputId": "caada069-fc8b-46a1-b994-e155470f18ad"
      },
      "execution_count": 19,
      "outputs": [
        {
          "output_type": "execute_result",
          "data": {
            "text/plain": [
              "21.0"
            ]
          },
          "metadata": {},
          "execution_count": 19
        }
      ]
    },
    {
      "cell_type": "code",
      "source": [
        "train_max_one_hot = tf.one_hot(train_df['max'].to_numpy(), depth = 20)\n",
        "val_max_one_hot = tf.one_hot(val_df['max'].to_numpy(), depth = 20)\n",
        "test_max_one_hot = tf.one_hot(test_df['max'].to_numpy(), depth = 20)"
      ],
      "metadata": {
        "id": "syfbKvDY7U8-"
      },
      "execution_count": 20,
      "outputs": []
    },
    {
      "cell_type": "code",
      "source": [
        "train_max_one_hot"
      ],
      "metadata": {
        "id": "Ql2HfNhqZC07",
        "outputId": "7d64625d-e9cb-4999-ab5b-2db9d5687803",
        "colab": {
          "base_uri": "https://localhost:8080/"
        }
      },
      "execution_count": 21,
      "outputs": [
        {
          "output_type": "execute_result",
          "data": {
            "text/plain": [
              "<tf.Tensor: shape=(180040, 20), dtype=float32, numpy=\n",
              "array([[0., 0., 0., ..., 0., 0., 0.],\n",
              "       [0., 0., 0., ..., 0., 0., 0.],\n",
              "       [0., 0., 0., ..., 0., 0., 0.],\n",
              "       ...,\n",
              "       [0., 0., 0., ..., 0., 0., 0.],\n",
              "       [0., 0., 0., ..., 0., 0., 0.],\n",
              "       [0., 0., 0., ..., 0., 0., 0.]], dtype=float32)>"
            ]
          },
          "metadata": {},
          "execution_count": 21
        }
      ]
    },
    {
      "cell_type": "markdown",
      "source": [
        "# Creating model"
      ],
      "metadata": {
        "id": "oul75kvOvtOz"
      }
    },
    {
      "cell_type": "code",
      "source": [
        "txt_vectoriser = tf.keras.layers.TextVectorization(max_tokens = 6800,\n",
        "                                                   output_sequence_length = 55)\n",
        "\n",
        "txt_vectoriser.adapt(train_sentences)"
      ],
      "metadata": {
        "id": "Br2h2ujzXdab"
      },
      "execution_count": 22,
      "outputs": []
    },
    {
      "cell_type": "code",
      "source": [
        "embedding_layer = tf.keras.layers.Embedding(input_dim = txt_vectoriser.vocabulary_size(),\n",
        "                                            output_dim = 128,\n",
        "                                            embeddings_initializer = \"uniform\",\n",
        "                                            mask_zero = True)"
      ],
      "metadata": {
        "id": "nDjfKO1MXhKm"
      },
      "execution_count": 23,
      "outputs": []
    },
    {
      "cell_type": "code",
      "source": [
        "char_vectoriser = tf.keras.layers.TextVectorization(max_tokens = 60,\n",
        "                                                    output_sequence_length = 290,\n",
        "                                                    standardize =None)\n",
        "\n",
        "char_vectoriser.adapt(train_chars)"
      ],
      "metadata": {
        "id": "KUZV7PbkXmOm"
      },
      "execution_count": 24,
      "outputs": []
    },
    {
      "cell_type": "code",
      "source": [
        "embedding_layer_char = tf.keras.layers.Embedding(input_dim = 60,\n",
        "                                                 output_dim = 25,\n",
        "                                                 mask_zero = True)"
      ],
      "metadata": {
        "id": "Zx630wNNXpSA"
      },
      "execution_count": 25,
      "outputs": []
    },
    {
      "cell_type": "code",
      "source": [
        "token_inputs = tf.keras.layers.Input(shape =(1,), dtype = tf.string, name = \"token_input\")\n",
        "token_embeddings = txt_vectoriser(token_inputs)\n",
        "token_embeddings = embedding_layer(token_embeddings)\n",
        "token_output = tf.keras.layers.Conv1D(filters = 64, kernel_size = 5, activation = \"relu\")(token_embeddings)\n",
        "token_output = tf.keras.layers.GlobalAveragePooling1D()(token_output)\n",
        "token_output = tf.keras.layers.Dense(64, activation = \"relu\")(token_output)\n",
        "token_model = tf.keras.Model(token_inputs, token_output)"
      ],
      "metadata": {
        "colab": {
          "base_uri": "https://localhost:8080/"
        },
        "outputId": "70a2a943-208e-4951-a73e-5a8b905ec19b",
        "id": "LjvVTMoJXuwd"
      },
      "execution_count": 26,
      "outputs": [
        {
          "output_type": "stream",
          "name": "stderr",
          "text": [
            "/usr/local/lib/python3.11/dist-packages/keras/src/layers/layer.py:934: UserWarning: Layer 'conv1d' (of type Conv1D) was passed an input with a mask attached to it. However, this layer does not support masking and will therefore destroy the mask information. Downstream layers will not see the mask.\n",
            "  warnings.warn(\n"
          ]
        }
      ]
    },
    {
      "cell_type": "code",
      "source": [
        "char_inputs = tf.keras.layers.Input(shape =(1,), dtype = tf.string, name = \"char_input\")\n",
        "tf.print(char_inputs)\n",
        "char_embeddings = char_vectoriser(char_inputs)\n",
        "tf.print(char_embeddings, summarize=-1)\n",
        "char_embeddings = embedding_layer_char(char_embeddings)\n",
        "tf.print(char_embeddings, summarize=-1)\n",
        "char_bi_lstm = tf.keras.layers.Bidirectional(tf.keras.layers.LSTM(16))(char_embeddings)\n",
        "tf.print(char_bi_lstm, summarize=-1)\n",
        "#char_output = tf.keras.layers.GlobalAveragePooling1D()(char_bi_lstm)\n",
        "char_model = tf.keras.Model(char_inputs, char_bi_lstm)"
      ],
      "metadata": {
        "colab": {
          "base_uri": "https://localhost:8080/"
        },
        "outputId": "97247ae1-4af3-4648-9615-66d4ea0b76aa",
        "id": "qrXb4EGXXypX"
      },
      "execution_count": 27,
      "outputs": [
        {
          "output_type": "stream",
          "name": "stdout",
          "text": [
            "<KerasTensor shape=(None, 1), dtype=string, sparse=False, name=char_input>\n",
            "<KerasTensor shape=(None, 290), dtype=int64, sparse=False, name=keras_tensor_6>\n",
            "<KerasTensor shape=(None, 290, 25), dtype=float32, sparse=False, name=keras_tensor_7>\n",
            "<KerasTensor shape=(None, 32), dtype=float32, sparse=False, name=keras_tensor_9>\n"
          ]
        }
      ]
    },
    {
      "cell_type": "code",
      "source": [
        "line_n_inputs = tf.keras.layers.Input(shape = (15,), dtype=tf.float32, name = \"line_number_inputs\")\n",
        "line_outputs = tf.keras.layers.Dense(32, activation='relu')(line_n_inputs)\n",
        "line_model = tf.keras.Model(line_n_inputs, line_outputs)"
      ],
      "metadata": {
        "id": "It40pgg-X80N"
      },
      "execution_count": 28,
      "outputs": []
    },
    {
      "cell_type": "code",
      "source": [
        "max_lines = tf.keras.layers.Input(shape = (20,), dtype = tf.float32, name = \"max_lines\")\n",
        "line_outputs = tf.keras.layers.Dense(32, activation='relu')(max_lines)\n",
        "max_model = tf.keras.Model(max_lines, line_outputs)"
      ],
      "metadata": {
        "id": "Om6KbktoY8vj"
      },
      "execution_count": 29,
      "outputs": []
    },
    {
      "cell_type": "code",
      "source": [
        "token_char_concat = tf.keras.layers.Concatenate(name =\"token_char_hybrid\")([token_model.output, char_model.output])\n",
        "z = tf.keras.layers.Dense(256, activation='relu')(token_char_concat)\n",
        "z = tf.keras.layers.Dropout(0.5)(z)"
      ],
      "metadata": {
        "id": "9CKDsM8cZscP"
      },
      "execution_count": 30,
      "outputs": []
    },
    {
      "cell_type": "code",
      "source": [
        "everything_concat = tf.keras.layers.Concatenate(name = \"everthing_combined\")([z, line_model.output, max_model.output])\n",
        "\n",
        "output_layer = tf.keras.layers.Dense(5, activation ='softmax')(everything_concat)\n",
        "\n",
        "model = tf.keras.Model(inputs =[line_model.input,\n",
        "                                max_model.input,\n",
        "                                token_model.input,\n",
        "                                char_model.input],\n",
        "                       outputs = output_layer)"
      ],
      "metadata": {
        "id": "OIVvhr_OZz6t"
      },
      "execution_count": 31,
      "outputs": []
    },
    {
      "cell_type": "code",
      "source": [
        "model.compile(loss = tf.keras.losses.CategoricalCrossentropy(label_smoothing= 0.2),\n",
        "              optimizer = tf.keras.optimizers.Adam(),\n",
        "              metrics = ['accuracy'])"
      ],
      "metadata": {
        "id": "VzF4QuEBbl2E"
      },
      "execution_count": 32,
      "outputs": []
    },
    {
      "cell_type": "markdown",
      "source": [
        "# Creating datasets"
      ],
      "metadata": {
        "id": "uDB8TN4twFny"
      }
    },
    {
      "cell_type": "code",
      "source": [
        "train_token_char_dataset = tf.data.Dataset.from_tensor_slices((train_line_numbers_one_hot, train_max_one_hot,train_sentences, train_chars))\n",
        "train_token_char_labels = tf.data.Dataset.from_tensor_slices(train_onelabels)\n",
        "train_token_char_dataset = tf.data.Dataset.zip((train_token_char_dataset, train_token_char_labels))\n",
        "\n",
        "train_token_char_dataset = train_token_char_dataset.batch(32).prefetch(tf.data.AUTOTUNE)"
      ],
      "metadata": {
        "id": "pmZpWiHgcIyG"
      },
      "execution_count": 33,
      "outputs": []
    },
    {
      "cell_type": "code",
      "source": [
        "test_token_char_dataset = tf.data.Dataset.from_tensor_slices((test_line_numbers_one_hot,test_max_one_hot,test_sentences, test_chars))\n",
        "test_token_char_labels = tf.data.Dataset.from_tensor_slices(test_onelabels)\n",
        "test_token_char_dataset = tf.data.Dataset.zip((test_token_char_dataset, test_token_char_labels))\n",
        "\n",
        "test_token_char_dataset = test_token_char_dataset.batch(32).prefetch(tf.data.AUTOTUNE)"
      ],
      "metadata": {
        "id": "HODEqvJedE7F"
      },
      "execution_count": 34,
      "outputs": []
    },
    {
      "cell_type": "code",
      "source": [
        "val_token_char_dataset = tf.data.Dataset.from_tensor_slices((val_line_numbers_one_hot, val_max_one_hot, val_sentences, val_chars))\n",
        "val_token_char_labels = tf.data.Dataset.from_tensor_slices(val_onelabels)\n",
        "val_token_char_dataset = tf.data.Dataset.zip((val_token_char_dataset, val_token_char_labels))\n",
        "\n",
        "val_token_char_dataset = val_token_char_dataset.batch(32).prefetch(tf.data.AUTOTUNE)"
      ],
      "metadata": {
        "id": "GcYddEK3dmx9"
      },
      "execution_count": 35,
      "outputs": []
    },
    {
      "cell_type": "markdown",
      "source": [
        "# Training model"
      ],
      "metadata": {
        "id": "noGLVf2LweRC"
      }
    },
    {
      "cell_type": "code",
      "source": [
        "hist_4 = model.fit(train_token_char_dataset,\n",
        "                   epochs = 5,\n",
        "                   validation_data = val_token_char_dataset,\n",
        "                   callbacks =[create_tensorboard_callback(\"exp\", \"everything\")])"
      ],
      "metadata": {
        "id": "mS1CWy9EdsTe",
        "outputId": "2b4dcd56-ffbe-4efc-ae7e-c03765df32fc",
        "colab": {
          "base_uri": "https://localhost:8080/"
        }
      },
      "execution_count": 36,
      "outputs": [
        {
          "output_type": "stream",
          "name": "stdout",
          "text": [
            "Saving TensorBoard log files to: exp/everything/20250117-053748\n",
            "Epoch 1/5\n",
            "\u001b[1m5627/5627\u001b[0m \u001b[32m━━━━━━━━━━━━━━━━━━━━\u001b[0m\u001b[37m\u001b[0m \u001b[1m151s\u001b[0m 25ms/step - accuracy: 0.7884 - loss: 0.9993 - val_accuracy: 0.8626 - val_loss: 0.8834\n",
            "Epoch 2/5\n",
            "\u001b[1m5627/5627\u001b[0m \u001b[32m━━━━━━━━━━━━━━━━━━━━\u001b[0m\u001b[37m\u001b[0m \u001b[1m141s\u001b[0m 25ms/step - accuracy: 0.8749 - loss: 0.8723 - val_accuracy: 0.8634 - val_loss: 0.8798\n",
            "Epoch 3/5\n",
            "\u001b[1m5627/5627\u001b[0m \u001b[32m━━━━━━━━━━━━━━━━━━━━\u001b[0m\u001b[37m\u001b[0m \u001b[1m138s\u001b[0m 25ms/step - accuracy: 0.8916 - loss: 0.8493 - val_accuracy: 0.8600 - val_loss: 0.8813\n",
            "Epoch 4/5\n",
            "\u001b[1m5627/5627\u001b[0m \u001b[32m━━━━━━━━━━━━━━━━━━━━\u001b[0m\u001b[37m\u001b[0m \u001b[1m137s\u001b[0m 24ms/step - accuracy: 0.9069 - loss: 0.8281 - val_accuracy: 0.8518 - val_loss: 0.8955\n",
            "Epoch 5/5\n",
            "\u001b[1m5627/5627\u001b[0m \u001b[32m━━━━━━━━━━━━━━━━━━━━\u001b[0m\u001b[37m\u001b[0m \u001b[1m139s\u001b[0m 25ms/step - accuracy: 0.9213 - loss: 0.8091 - val_accuracy: 0.8484 - val_loss: 0.9033\n"
          ]
        }
      ]
    },
    {
      "cell_type": "code",
      "source": [
        "model.evaluate(test_token_char_dataset)"
      ],
      "metadata": {
        "id": "NKhGc9_UeSt4",
        "outputId": "14409ab4-940d-4108-868b-2771ea7c04e0",
        "colab": {
          "base_uri": "https://localhost:8080/"
        }
      },
      "execution_count": 37,
      "outputs": [
        {
          "output_type": "stream",
          "name": "stdout",
          "text": [
            "\u001b[1m945/945\u001b[0m \u001b[32m━━━━━━━━━━━━━━━━━━━━\u001b[0m\u001b[37m\u001b[0m \u001b[1m10s\u001b[0m 11ms/step - accuracy: 0.8551 - loss: 0.8951\n"
          ]
        },
        {
          "output_type": "execute_result",
          "data": {
            "text/plain": [
              "[0.8946567177772522, 0.854759693145752]"
            ]
          },
          "metadata": {},
          "execution_count": 37
        }
      ]
    },
    {
      "cell_type": "code",
      "source": [
        "model_pred_classes = tf.argmax(model.predict(test_token_char_dataset), axis =1).numpy()"
      ],
      "metadata": {
        "id": "Ok0GzodiqufX",
        "outputId": "310e62a0-b98e-4a1f-8d72-9eb3f19c3bf3",
        "colab": {
          "base_uri": "https://localhost:8080/"
        }
      },
      "execution_count": 38,
      "outputs": [
        {
          "output_type": "stream",
          "name": "stdout",
          "text": [
            "\u001b[1m945/945\u001b[0m \u001b[32m━━━━━━━━━━━━━━━━━━━━\u001b[0m\u001b[37m\u001b[0m \u001b[1m10s\u001b[0m 10ms/step\n"
          ]
        }
      ]
    },
    {
      "cell_type": "markdown",
      "source": [
        "# Saving model"
      ],
      "metadata": {
        "id": "Kp-BX8vawnNX"
      }
    },
    {
      "cell_type": "code",
      "source": [
        "model.save(\"bestmodel.keras\")"
      ],
      "metadata": {
        "id": "YMtfMa_9rBRJ"
      },
      "execution_count": 39,
      "outputs": []
    }
  ]
}